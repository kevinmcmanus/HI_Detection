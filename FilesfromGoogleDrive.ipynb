{
 "cells": [
  {
   "cell_type": "markdown",
   "metadata": {},
   "source": [
    "# Getting Google Drive Files\n",
    "LTO puts data files out on Google drive. Getting them in to a Python workspace can be tricky. Here, we'll deal with Google authorization and the various gyrations in order to get data files into Pandas."
   ]
  },
  {
   "cell_type": "code",
   "execution_count": 1,
   "metadata": {},
   "outputs": [],
   "source": [
    "from pydrive.auth import GoogleAuth\n",
    "from pydrive.drive import GoogleDrive\n",
    "#from google.colab import auth\n",
    "from oauth2client.client import GoogleCredentials\n",
    "import os"
   ]
  },
  {
   "cell_type": "markdown",
   "metadata": {},
   "source": [
    "## Client Secrets\n",
    "Google authoriztion requires a client secret file -- this helps ensure the client (me) is actually authorized to access the content in question. Through the Google API Console, one creates a client and can then download a file called client_id.\n",
    "\n",
    "Previously, we worked on the Utah Oil and Gas project which downloaded content from a Google drive. This application had a file client_secrets in the current directory.  The authorization didn't work without this file.\n",
    "\n",
    "A comparison of the `client_id` json file downloaded from the Google API Console to `client_secrets` from the Utah project shows the two to be very similar in structure and values. The `project_id` and `client_id` fields differ in that they are values from their respective projects.\n",
    "\n",
    "So it would appear that I can rename the client_id file as client_secrets.json for purposes of authentication and authorization."
   ]
  },
  {
   "cell_type": "markdown",
   "metadata": {},
   "source": [
    "## Get File Names from a Google Drive Directory\n",
    "\n",
    "Here are two routines that together return a list of file names or a list of Google file ojects from a Google Drive folder.  The former is useful when seeing what files are in the directory; the latter when neeeding to obtain the contents of one or more files on the Google Drive."
   ]
  },
  {
   "cell_type": "code",
   "execution_count": 2,
   "metadata": {},
   "outputs": [],
   "source": [
    "#ripped and modified from Utah project\n",
    "def get_files(slug, files=False):\n",
    "    \"\"\"\n",
    "    returns a list of files from a google drive folder, recurses down into sub-dirs\n",
    "    Parameters:\n",
    "        slug: id of the directory\n",
    "        files: True => return file objects, False => return file names\n",
    "    Returns:\n",
    "        List of file names or file objects in the directory\n",
    "    \"\"\"\n",
    "    gauth = GoogleAuth()\n",
    "    # Try to load saved client credentials\n",
    "    gauth.LoadCredentialsFile(\"mycreds.txt\")\n",
    "    if gauth.credentials is None:\n",
    "        # Authenticate if they're not there\n",
    "        gauth.LocalWebserverAuth()\n",
    "    elif gauth.access_token_expired:\n",
    "        os.remove('mycreds.txt')\n",
    "        gauth.LocalWebserverAuth()\n",
    "    else:\n",
    "        # Initialize the saved creds\n",
    "        gauth.Authorize()\n",
    "    # Save the current credentials to a file\n",
    "    gauth.SaveCredentialsFile(\"mycreds.txt\")\n",
    "\n",
    "    drive = GoogleDrive(gauth)\n",
    "\n",
    "    return list_folder(slug, drive, files=files)\n",
    "\n"
   ]
  },
  {
   "cell_type": "code",
   "execution_count": 3,
   "metadata": {},
   "outputs": [],
   "source": [
    "def list_folder(parent, drive, is_top=True, files=False):\n",
    "    try:\n",
    "        file_list = drive.ListFile(\n",
    "            {'q': \"'{}' in parents and trashed=false\".format(\n",
    "                parent)}).GetList()\n",
    "        fids = []\n",
    "        for f in file_list:\n",
    "            if f['mimeType'] == 'application/vnd.google-apps.folder':\n",
    "                fids = fids + list_folder(f['id'], drive, is_top=False, files=files)\n",
    "            else:\n",
    "                if files:\n",
    "                    fids.append(f)\n",
    "                else:\n",
    "                    fids.append(f['title'])\n",
    "        return (fids)\n",
    "\n",
    "    except Exception as e:\n",
    "        print(e)\n"
   ]
  },
  {
   "cell_type": "markdown",
   "metadata": {},
   "source": [
    "Directory supplied by Terry: (https://drive.google.com/drive/folders/1pt_P1YZc71rF0sH2rve24Td2vpCVnjrZ?usp=sharing). The HI data is in a dirctory: https://drive.google.com/drive/folders/14JRb6XKdILOPhrZiGvKfRmKYvFfFsPfo\n",
    "\n",
    "So I think the directory Id is the crazy number at the end."
   ]
  },
  {
   "cell_type": "code",
   "execution_count": 4,
   "metadata": {},
   "outputs": [
    {
     "name": "stderr",
     "output_type": "stream",
     "text": [
      "C:\\Users\\kevin\\Anaconda3\\lib\\site-packages\\oauth2client\\_helpers.py:255: UserWarning: Cannot access mycreds.txt: No such file or directory\n",
      "  warnings.warn(_MISSING_FILE_MESSAGE.format(filename))\n"
     ]
    }
   ],
   "source": [
    "dir_id = '14JRb6XKdILOPhrZiGvKfRmKYvFfFsPfo'\n",
    "file_list = get_files(dir_id)"
   ]
  },
  {
   "cell_type": "code",
   "execution_count": 5,
   "metadata": {},
   "outputs": [
    {
     "data": {
      "text/plain": [
       "1418"
      ]
     },
     "execution_count": 5,
     "metadata": {},
     "output_type": "execute_result"
    }
   ],
   "source": [
    "len(file_list)"
   ]
  },
  {
   "cell_type": "code",
   "execution_count": 6,
   "metadata": {},
   "outputs": [
    {
     "data": {
      "text/plain": [
       "'LTO-HI-2018-08-30-00-00-00_1420397kHz.fft'"
      ]
     },
     "execution_count": 6,
     "metadata": {},
     "output_type": "execute_result"
    }
   ],
   "source": [
    "file_list[0]"
   ]
  },
  {
   "cell_type": "code",
   "execution_count": 7,
   "metadata": {},
   "outputs": [
    {
     "data": {
      "text/plain": [
       "'LTO-HI-2018-08-30-00-01-03_1420397kHz.fft'"
      ]
     },
     "execution_count": 7,
     "metadata": {},
     "output_type": "execute_result"
    }
   ],
   "source": [
    "file_list[1]"
   ]
  },
  {
   "cell_type": "code",
   "execution_count": 8,
   "metadata": {},
   "outputs": [],
   "source": [
    "file_list=get_files(dir_id, files=True)"
   ]
  },
  {
   "cell_type": "code",
   "execution_count": 9,
   "metadata": {},
   "outputs": [
    {
     "data": {
      "text/plain": [
       "'LTO-HI-2018-08-30-00-03-06_1420397kHz.fft'"
      ]
     },
     "execution_count": 9,
     "metadata": {},
     "output_type": "execute_result"
    }
   ],
   "source": [
    "file_list[3]['title']"
   ]
  },
  {
   "cell_type": "markdown",
   "metadata": {},
   "source": [
    "## Get File Contents\n",
    "\n",
    "The `GetContentString` gets the file contents and returns it as a string"
   ]
  },
  {
   "cell_type": "code",
   "execution_count": 10,
   "metadata": {},
   "outputs": [],
   "source": [
    "str=file_list[3].GetContentString()"
   ]
  },
  {
   "cell_type": "code",
   "execution_count": 11,
   "metadata": {},
   "outputs": [
    {
     "data": {
      "text/plain": [
       "1868375"
      ]
     },
     "execution_count": 11,
     "metadata": {},
     "output_type": "execute_result"
    }
   ],
   "source": [
    "len(str)"
   ]
  },
  {
   "cell_type": "markdown",
   "metadata": {},
   "source": [
    "World's longest string!"
   ]
  },
  {
   "cell_type": "code",
   "execution_count": 12,
   "metadata": {},
   "outputs": [
    {
     "data": {
      "text/plain": [
       "'#            Date  2018     8    30\\n#            Time     0     3     6\\n#          NBYTES          2\\n#        NSAMPLES  493551616\\n#          LENFFT      16384\\n#          NUMAVE    9999999\\n#          Period      0.00163840\\n#          Center    1420397000.0\\n#              dF    610.35156250\\n#              dT     49.35515976\\n#              ST      0.00000010\\n#              FS      0.00001000\\n#       '"
      ]
     },
     "execution_count": 12,
     "metadata": {},
     "output_type": "execute_result"
    }
   ],
   "source": [
    "str[0:400]"
   ]
  },
  {
   "cell_type": "markdown",
   "metadata": {},
   "source": [
    "## Create a Pandas Data Frame from File Contents\n",
    "Panda's `read_csv` method takes a string containing a path name or something that has a `read()` method.  StringIO makes a string kinda sorta act like a file, and provides a `read()` method and thus acceptable first argument to `pandas.read_csv`"
   ]
  },
  {
   "cell_type": "code",
   "execution_count": 13,
   "metadata": {},
   "outputs": [],
   "source": [
    "from io import StringIO\n",
    "import pandas as pd"
   ]
  },
  {
   "cell_type": "code",
   "execution_count": 14,
   "metadata": {},
   "outputs": [],
   "source": [
    "# string to file\n",
    "strio = StringIO(str)"
   ]
  },
  {
   "cell_type": "code",
   "execution_count": 15,
   "metadata": {},
   "outputs": [
    {
     "data": {
      "text/plain": [
       "_io.StringIO"
      ]
     },
     "execution_count": 15,
     "metadata": {},
     "output_type": "execute_result"
    }
   ],
   "source": [
    "type(strio)"
   ]
  },
  {
   "cell_type": "code",
   "execution_count": 16,
   "metadata": {},
   "outputs": [],
   "source": [
    "strio.close()"
   ]
  },
  {
   "cell_type": "code",
   "execution_count": 17,
   "metadata": {},
   "outputs": [],
   "source": [
    "colnames = ['Spec', 'Line', 'YMD', 'HMS', 'Sec', 'dF', 'F','PWR', 'PWR_dBm']"
   ]
  },
  {
   "cell_type": "markdown",
   "metadata": {},
   "source": [
    "Just read it up as if it were a regular file:"
   ]
  },
  {
   "cell_type": "code",
   "execution_count": 18,
   "metadata": {},
   "outputs": [],
   "source": [
    "strio=StringIO(str)\n",
    "df = pd.read_csv(strio, names = colnames, header=None,  delim_whitespace=True,\n",
    "                 skiprows=16)\n",
    "strio.close()\n"
   ]
  },
  {
   "cell_type": "code",
   "execution_count": 19,
   "metadata": {},
   "outputs": [
    {
     "data": {
      "text/plain": [
       "16384"
      ]
     },
     "execution_count": 19,
     "metadata": {},
     "output_type": "execute_result"
    }
   ],
   "source": [
    "len(df)"
   ]
  },
  {
   "cell_type": "code",
   "execution_count": 20,
   "metadata": {},
   "outputs": [
    {
     "data": {
      "text/html": [
       "<div>\n",
       "<style scoped>\n",
       "    .dataframe tbody tr th:only-of-type {\n",
       "        vertical-align: middle;\n",
       "    }\n",
       "\n",
       "    .dataframe tbody tr th {\n",
       "        vertical-align: top;\n",
       "    }\n",
       "\n",
       "    .dataframe thead th {\n",
       "        text-align: right;\n",
       "    }\n",
       "</style>\n",
       "<table border=\"1\" class=\"dataframe\">\n",
       "  <thead>\n",
       "    <tr style=\"text-align: right;\">\n",
       "      <th></th>\n",
       "      <th>Spec</th>\n",
       "      <th>Line</th>\n",
       "      <th>YMD</th>\n",
       "      <th>HMS</th>\n",
       "      <th>Sec</th>\n",
       "      <th>dF</th>\n",
       "      <th>F</th>\n",
       "      <th>PWR</th>\n",
       "      <th>PWR_dBm</th>\n",
       "    </tr>\n",
       "  </thead>\n",
       "  <tbody>\n",
       "    <tr>\n",
       "      <th>0</th>\n",
       "      <td>1</td>\n",
       "      <td>-8192</td>\n",
       "      <td>2018-08-30</td>\n",
       "      <td>00:03:06</td>\n",
       "      <td>30.678</td>\n",
       "      <td>-5000.00000</td>\n",
       "      <td>1.415397e+06</td>\n",
       "      <td>1.000000</td>\n",
       "      <td>0.000</td>\n",
       "    </tr>\n",
       "    <tr>\n",
       "      <th>1</th>\n",
       "      <td>1</td>\n",
       "      <td>-8191</td>\n",
       "      <td>2018-08-30</td>\n",
       "      <td>00:03:06</td>\n",
       "      <td>30.678</td>\n",
       "      <td>-4999.38965</td>\n",
       "      <td>1.415398e+06</td>\n",
       "      <td>1.000000</td>\n",
       "      <td>0.000</td>\n",
       "    </tr>\n",
       "    <tr>\n",
       "      <th>2</th>\n",
       "      <td>1</td>\n",
       "      <td>-8190</td>\n",
       "      <td>2018-08-30</td>\n",
       "      <td>00:03:06</td>\n",
       "      <td>30.678</td>\n",
       "      <td>-4998.77930</td>\n",
       "      <td>1.415398e+06</td>\n",
       "      <td>0.538561</td>\n",
       "      <td>-2.688</td>\n",
       "    </tr>\n",
       "    <tr>\n",
       "      <th>3</th>\n",
       "      <td>1</td>\n",
       "      <td>-8189</td>\n",
       "      <td>2018-08-30</td>\n",
       "      <td>00:03:06</td>\n",
       "      <td>30.678</td>\n",
       "      <td>-4998.16895</td>\n",
       "      <td>1.415399e+06</td>\n",
       "      <td>0.540211</td>\n",
       "      <td>-2.674</td>\n",
       "    </tr>\n",
       "    <tr>\n",
       "      <th>4</th>\n",
       "      <td>1</td>\n",
       "      <td>-8188</td>\n",
       "      <td>2018-08-30</td>\n",
       "      <td>00:03:06</td>\n",
       "      <td>30.678</td>\n",
       "      <td>-4997.55859</td>\n",
       "      <td>1.415399e+06</td>\n",
       "      <td>0.545013</td>\n",
       "      <td>-2.636</td>\n",
       "    </tr>\n",
       "  </tbody>\n",
       "</table>\n",
       "</div>"
      ],
      "text/plain": [
       "   Spec  Line         YMD       HMS     Sec          dF             F  \\\n",
       "0     1 -8192  2018-08-30  00:03:06  30.678 -5000.00000  1.415397e+06   \n",
       "1     1 -8191  2018-08-30  00:03:06  30.678 -4999.38965  1.415398e+06   \n",
       "2     1 -8190  2018-08-30  00:03:06  30.678 -4998.77930  1.415398e+06   \n",
       "3     1 -8189  2018-08-30  00:03:06  30.678 -4998.16895  1.415399e+06   \n",
       "4     1 -8188  2018-08-30  00:03:06  30.678 -4997.55859  1.415399e+06   \n",
       "\n",
       "        PWR  PWR_dBm  \n",
       "0  1.000000    0.000  \n",
       "1  1.000000    0.000  \n",
       "2  0.538561   -2.688  \n",
       "3  0.540211   -2.674  \n",
       "4  0.545013   -2.636  "
      ]
     },
     "execution_count": 20,
     "metadata": {},
     "output_type": "execute_result"
    }
   ],
   "source": [
    "df.head()"
   ]
  },
  {
   "cell_type": "code",
   "execution_count": 21,
   "metadata": {},
   "outputs": [
    {
     "data": {
      "text/html": [
       "<div>\n",
       "<style scoped>\n",
       "    .dataframe tbody tr th:only-of-type {\n",
       "        vertical-align: middle;\n",
       "    }\n",
       "\n",
       "    .dataframe tbody tr th {\n",
       "        vertical-align: top;\n",
       "    }\n",
       "\n",
       "    .dataframe thead th {\n",
       "        text-align: right;\n",
       "    }\n",
       "</style>\n",
       "<table border=\"1\" class=\"dataframe\">\n",
       "  <thead>\n",
       "    <tr style=\"text-align: right;\">\n",
       "      <th></th>\n",
       "      <th>Spec</th>\n",
       "      <th>Line</th>\n",
       "      <th>YMD</th>\n",
       "      <th>HMS</th>\n",
       "      <th>Sec</th>\n",
       "      <th>dF</th>\n",
       "      <th>F</th>\n",
       "      <th>PWR</th>\n",
       "      <th>PWR_dBm</th>\n",
       "    </tr>\n",
       "  </thead>\n",
       "  <tbody>\n",
       "    <tr>\n",
       "      <th>16379</th>\n",
       "      <td>1</td>\n",
       "      <td>8187</td>\n",
       "      <td>2018-08-30</td>\n",
       "      <td>00:03:06</td>\n",
       "      <td>30.678</td>\n",
       "      <td>4996.94824</td>\n",
       "      <td>1.425394e+06</td>\n",
       "      <td>0.717369</td>\n",
       "      <td>-1.443</td>\n",
       "    </tr>\n",
       "    <tr>\n",
       "      <th>16380</th>\n",
       "      <td>1</td>\n",
       "      <td>8188</td>\n",
       "      <td>2018-08-30</td>\n",
       "      <td>00:03:06</td>\n",
       "      <td>30.678</td>\n",
       "      <td>4997.55859</td>\n",
       "      <td>1.425395e+06</td>\n",
       "      <td>0.723902</td>\n",
       "      <td>-1.403</td>\n",
       "    </tr>\n",
       "    <tr>\n",
       "      <th>16381</th>\n",
       "      <td>1</td>\n",
       "      <td>8189</td>\n",
       "      <td>2018-08-30</td>\n",
       "      <td>00:03:06</td>\n",
       "      <td>30.678</td>\n",
       "      <td>4998.16895</td>\n",
       "      <td>1.425395e+06</td>\n",
       "      <td>0.730658</td>\n",
       "      <td>-1.363</td>\n",
       "    </tr>\n",
       "    <tr>\n",
       "      <th>16382</th>\n",
       "      <td>1</td>\n",
       "      <td>8190</td>\n",
       "      <td>2018-08-30</td>\n",
       "      <td>00:03:06</td>\n",
       "      <td>30.678</td>\n",
       "      <td>4998.77930</td>\n",
       "      <td>1.425396e+06</td>\n",
       "      <td>0.685376</td>\n",
       "      <td>-1.641</td>\n",
       "    </tr>\n",
       "    <tr>\n",
       "      <th>16383</th>\n",
       "      <td>1</td>\n",
       "      <td>8191</td>\n",
       "      <td>2018-08-30</td>\n",
       "      <td>00:03:06</td>\n",
       "      <td>30.678</td>\n",
       "      <td>4999.38965</td>\n",
       "      <td>1.425396e+06</td>\n",
       "      <td>1.000000</td>\n",
       "      <td>0.000</td>\n",
       "    </tr>\n",
       "  </tbody>\n",
       "</table>\n",
       "</div>"
      ],
      "text/plain": [
       "       Spec  Line         YMD       HMS     Sec          dF             F  \\\n",
       "16379     1  8187  2018-08-30  00:03:06  30.678  4996.94824  1.425394e+06   \n",
       "16380     1  8188  2018-08-30  00:03:06  30.678  4997.55859  1.425395e+06   \n",
       "16381     1  8189  2018-08-30  00:03:06  30.678  4998.16895  1.425395e+06   \n",
       "16382     1  8190  2018-08-30  00:03:06  30.678  4998.77930  1.425396e+06   \n",
       "16383     1  8191  2018-08-30  00:03:06  30.678  4999.38965  1.425396e+06   \n",
       "\n",
       "            PWR  PWR_dBm  \n",
       "16379  0.717369   -1.443  \n",
       "16380  0.723902   -1.403  \n",
       "16381  0.730658   -1.363  \n",
       "16382  0.685376   -1.641  \n",
       "16383  1.000000    0.000  "
      ]
     },
     "execution_count": 21,
     "metadata": {},
     "output_type": "execute_result"
    }
   ],
   "source": [
    "df.tail()"
   ]
  },
  {
   "cell_type": "markdown",
   "metadata": {},
   "source": [
    "## Function to Do It All!"
   ]
  },
  {
   "cell_type": "code",
   "execution_count": 22,
   "metadata": {},
   "outputs": [],
   "source": [
    "def get_data(f):\n",
    "    \"\"\"\n",
    "    Returns a data frame from the contents of a file\n",
    "    Parameters:\n",
    "        f: Google drive file\n",
    "    \n",
    "    \"\"\"\n",
    "    \n",
    "    # read the file contents into a string\n",
    "    fstr = f.GetContentString()\n",
    "    \n",
    "    # make it look like a file and read it into a dataframe\n",
    "    colnames = ['Spec', 'Line', 'YMD', 'HMS', 'Sec', 'dF', 'F','PWR', 'PWR_dBm']\n",
    "    with StringIO(fstr) as strio:\n",
    "        df = pd.read_csv(strio, names = colnames, header=None,  delim_whitespace=True,\n",
    "                 skiprows=16)   \n",
    "    \n",
    "    return df"
   ]
  },
  {
   "cell_type": "code",
   "execution_count": 23,
   "metadata": {},
   "outputs": [],
   "source": [
    "df2 = get_data(file_list[300])"
   ]
  },
  {
   "cell_type": "code",
   "execution_count": 24,
   "metadata": {},
   "outputs": [
    {
     "data": {
      "text/html": [
       "<div>\n",
       "<style scoped>\n",
       "    .dataframe tbody tr th:only-of-type {\n",
       "        vertical-align: middle;\n",
       "    }\n",
       "\n",
       "    .dataframe tbody tr th {\n",
       "        vertical-align: top;\n",
       "    }\n",
       "\n",
       "    .dataframe thead th {\n",
       "        text-align: right;\n",
       "    }\n",
       "</style>\n",
       "<table border=\"1\" class=\"dataframe\">\n",
       "  <thead>\n",
       "    <tr style=\"text-align: right;\">\n",
       "      <th></th>\n",
       "      <th>Spec</th>\n",
       "      <th>Line</th>\n",
       "      <th>YMD</th>\n",
       "      <th>HMS</th>\n",
       "      <th>Sec</th>\n",
       "      <th>dF</th>\n",
       "      <th>F</th>\n",
       "      <th>PWR</th>\n",
       "      <th>PWR_dBm</th>\n",
       "    </tr>\n",
       "  </thead>\n",
       "  <tbody>\n",
       "    <tr>\n",
       "      <th>0</th>\n",
       "      <td>1</td>\n",
       "      <td>-8192</td>\n",
       "      <td>2018-08-30</td>\n",
       "      <td>05:05:47</td>\n",
       "      <td>71.674</td>\n",
       "      <td>-5000.00000</td>\n",
       "      <td>1.415397e+06</td>\n",
       "      <td>1.000000</td>\n",
       "      <td>0.000</td>\n",
       "    </tr>\n",
       "    <tr>\n",
       "      <th>1</th>\n",
       "      <td>1</td>\n",
       "      <td>-8191</td>\n",
       "      <td>2018-08-30</td>\n",
       "      <td>05:05:47</td>\n",
       "      <td>71.674</td>\n",
       "      <td>-4999.38965</td>\n",
       "      <td>1.415398e+06</td>\n",
       "      <td>1.000000</td>\n",
       "      <td>0.000</td>\n",
       "    </tr>\n",
       "    <tr>\n",
       "      <th>2</th>\n",
       "      <td>1</td>\n",
       "      <td>-8190</td>\n",
       "      <td>2018-08-30</td>\n",
       "      <td>05:05:47</td>\n",
       "      <td>71.674</td>\n",
       "      <td>-4998.77930</td>\n",
       "      <td>1.415398e+06</td>\n",
       "      <td>0.571842</td>\n",
       "      <td>-2.427</td>\n",
       "    </tr>\n",
       "    <tr>\n",
       "      <th>3</th>\n",
       "      <td>1</td>\n",
       "      <td>-8189</td>\n",
       "      <td>2018-08-30</td>\n",
       "      <td>05:05:47</td>\n",
       "      <td>71.674</td>\n",
       "      <td>-4998.16895</td>\n",
       "      <td>1.415399e+06</td>\n",
       "      <td>0.573207</td>\n",
       "      <td>-2.417</td>\n",
       "    </tr>\n",
       "    <tr>\n",
       "      <th>4</th>\n",
       "      <td>1</td>\n",
       "      <td>-8188</td>\n",
       "      <td>2018-08-30</td>\n",
       "      <td>05:05:47</td>\n",
       "      <td>71.674</td>\n",
       "      <td>-4997.55859</td>\n",
       "      <td>1.415399e+06</td>\n",
       "      <td>0.575545</td>\n",
       "      <td>-2.399</td>\n",
       "    </tr>\n",
       "  </tbody>\n",
       "</table>\n",
       "</div>"
      ],
      "text/plain": [
       "   Spec  Line         YMD       HMS     Sec          dF             F  \\\n",
       "0     1 -8192  2018-08-30  05:05:47  71.674 -5000.00000  1.415397e+06   \n",
       "1     1 -8191  2018-08-30  05:05:47  71.674 -4999.38965  1.415398e+06   \n",
       "2     1 -8190  2018-08-30  05:05:47  71.674 -4998.77930  1.415398e+06   \n",
       "3     1 -8189  2018-08-30  05:05:47  71.674 -4998.16895  1.415399e+06   \n",
       "4     1 -8188  2018-08-30  05:05:47  71.674 -4997.55859  1.415399e+06   \n",
       "\n",
       "        PWR  PWR_dBm  \n",
       "0  1.000000    0.000  \n",
       "1  1.000000    0.000  \n",
       "2  0.571842   -2.427  \n",
       "3  0.573207   -2.417  \n",
       "4  0.575545   -2.399  "
      ]
     },
     "execution_count": 24,
     "metadata": {},
     "output_type": "execute_result"
    }
   ],
   "source": [
    "df2.head()"
   ]
  },
  {
   "cell_type": "code",
   "execution_count": 25,
   "metadata": {},
   "outputs": [
    {
     "data": {
      "text/plain": [
       "'LTO-HI-2018-08-30-05-05-47_1420397kHz.fft'"
      ]
     },
     "execution_count": 25,
     "metadata": {},
     "output_type": "execute_result"
    }
   ],
   "source": [
    "file_list[300]['title']"
   ]
  },
  {
   "cell_type": "markdown",
   "metadata": {},
   "source": [
    "## Pickling\n",
    "Pickling serializes a Python object and optionally writes it to disk with or without compression.\n",
    "See [Python Pickle Tutorial](https://www.datacamp.com/community/tutorials/pickle-python-tutorial). Let's pickle and unpickle df2"
   ]
  },
  {
   "cell_type": "code",
   "execution_count": 26,
   "metadata": {},
   "outputs": [],
   "source": [
    "import pickle"
   ]
  },
  {
   "cell_type": "code",
   "execution_count": 27,
   "metadata": {},
   "outputs": [],
   "source": [
    "fout = 'data/df2.out'\n",
    "with open(fout, 'wb') as f:\n",
    "    pickle.dump(df2,f)"
   ]
  },
  {
   "cell_type": "code",
   "execution_count": 28,
   "metadata": {},
   "outputs": [],
   "source": [
    "fin = fout\n",
    "with open(fin, 'rb') as f:\n",
    "    df3 = pickle.load(f)"
   ]
  },
  {
   "cell_type": "code",
   "execution_count": 29,
   "metadata": {},
   "outputs": [
    {
     "data": {
      "text/html": [
       "<div>\n",
       "<style scoped>\n",
       "    .dataframe tbody tr th:only-of-type {\n",
       "        vertical-align: middle;\n",
       "    }\n",
       "\n",
       "    .dataframe tbody tr th {\n",
       "        vertical-align: top;\n",
       "    }\n",
       "\n",
       "    .dataframe thead th {\n",
       "        text-align: right;\n",
       "    }\n",
       "</style>\n",
       "<table border=\"1\" class=\"dataframe\">\n",
       "  <thead>\n",
       "    <tr style=\"text-align: right;\">\n",
       "      <th></th>\n",
       "      <th>Spec</th>\n",
       "      <th>Line</th>\n",
       "      <th>YMD</th>\n",
       "      <th>HMS</th>\n",
       "      <th>Sec</th>\n",
       "      <th>dF</th>\n",
       "      <th>F</th>\n",
       "      <th>PWR</th>\n",
       "      <th>PWR_dBm</th>\n",
       "    </tr>\n",
       "  </thead>\n",
       "  <tbody>\n",
       "    <tr>\n",
       "      <th>0</th>\n",
       "      <td>1</td>\n",
       "      <td>-8192</td>\n",
       "      <td>2018-08-30</td>\n",
       "      <td>05:05:47</td>\n",
       "      <td>71.674</td>\n",
       "      <td>-5000.00000</td>\n",
       "      <td>1.415397e+06</td>\n",
       "      <td>1.000000</td>\n",
       "      <td>0.000</td>\n",
       "    </tr>\n",
       "    <tr>\n",
       "      <th>1</th>\n",
       "      <td>1</td>\n",
       "      <td>-8191</td>\n",
       "      <td>2018-08-30</td>\n",
       "      <td>05:05:47</td>\n",
       "      <td>71.674</td>\n",
       "      <td>-4999.38965</td>\n",
       "      <td>1.415398e+06</td>\n",
       "      <td>1.000000</td>\n",
       "      <td>0.000</td>\n",
       "    </tr>\n",
       "    <tr>\n",
       "      <th>2</th>\n",
       "      <td>1</td>\n",
       "      <td>-8190</td>\n",
       "      <td>2018-08-30</td>\n",
       "      <td>05:05:47</td>\n",
       "      <td>71.674</td>\n",
       "      <td>-4998.77930</td>\n",
       "      <td>1.415398e+06</td>\n",
       "      <td>0.571842</td>\n",
       "      <td>-2.427</td>\n",
       "    </tr>\n",
       "    <tr>\n",
       "      <th>3</th>\n",
       "      <td>1</td>\n",
       "      <td>-8189</td>\n",
       "      <td>2018-08-30</td>\n",
       "      <td>05:05:47</td>\n",
       "      <td>71.674</td>\n",
       "      <td>-4998.16895</td>\n",
       "      <td>1.415399e+06</td>\n",
       "      <td>0.573207</td>\n",
       "      <td>-2.417</td>\n",
       "    </tr>\n",
       "    <tr>\n",
       "      <th>4</th>\n",
       "      <td>1</td>\n",
       "      <td>-8188</td>\n",
       "      <td>2018-08-30</td>\n",
       "      <td>05:05:47</td>\n",
       "      <td>71.674</td>\n",
       "      <td>-4997.55859</td>\n",
       "      <td>1.415399e+06</td>\n",
       "      <td>0.575545</td>\n",
       "      <td>-2.399</td>\n",
       "    </tr>\n",
       "  </tbody>\n",
       "</table>\n",
       "</div>"
      ],
      "text/plain": [
       "   Spec  Line         YMD       HMS     Sec          dF             F  \\\n",
       "0     1 -8192  2018-08-30  05:05:47  71.674 -5000.00000  1.415397e+06   \n",
       "1     1 -8191  2018-08-30  05:05:47  71.674 -4999.38965  1.415398e+06   \n",
       "2     1 -8190  2018-08-30  05:05:47  71.674 -4998.77930  1.415398e+06   \n",
       "3     1 -8189  2018-08-30  05:05:47  71.674 -4998.16895  1.415399e+06   \n",
       "4     1 -8188  2018-08-30  05:05:47  71.674 -4997.55859  1.415399e+06   \n",
       "\n",
       "        PWR  PWR_dBm  \n",
       "0  1.000000    0.000  \n",
       "1  1.000000    0.000  \n",
       "2  0.571842   -2.427  \n",
       "3  0.573207   -2.417  \n",
       "4  0.575545   -2.399  "
      ]
     },
     "execution_count": 29,
     "metadata": {},
     "output_type": "execute_result"
    }
   ],
   "source": [
    "df3.head()"
   ]
  },
  {
   "cell_type": "markdown",
   "metadata": {},
   "source": [
    "The pickled file `df2.out` is about 1/2 the size on disk as the .fft file from whence it came. Let's compress and see what happens."
   ]
  },
  {
   "cell_type": "code",
   "execution_count": 30,
   "metadata": {},
   "outputs": [],
   "source": [
    "import bz2\n",
    "import pickle\n",
    "\n",
    "with bz2.BZ2File('data/df2.small', 'w') as sfile:\n",
    "    pickle.dump(df2, sfile)"
   ]
  },
  {
   "cell_type": "code",
   "execution_count": 31,
   "metadata": {},
   "outputs": [],
   "source": [
    "with bz2.BZ2File('data/df2.small', 'r') as sfile:\n",
    "    df4 = pickle.load(sfile)"
   ]
  },
  {
   "cell_type": "code",
   "execution_count": 32,
   "metadata": {},
   "outputs": [
    {
     "data": {
      "text/html": [
       "<div>\n",
       "<style scoped>\n",
       "    .dataframe tbody tr th:only-of-type {\n",
       "        vertical-align: middle;\n",
       "    }\n",
       "\n",
       "    .dataframe tbody tr th {\n",
       "        vertical-align: top;\n",
       "    }\n",
       "\n",
       "    .dataframe thead th {\n",
       "        text-align: right;\n",
       "    }\n",
       "</style>\n",
       "<table border=\"1\" class=\"dataframe\">\n",
       "  <thead>\n",
       "    <tr style=\"text-align: right;\">\n",
       "      <th></th>\n",
       "      <th>Spec</th>\n",
       "      <th>Line</th>\n",
       "      <th>YMD</th>\n",
       "      <th>HMS</th>\n",
       "      <th>Sec</th>\n",
       "      <th>dF</th>\n",
       "      <th>F</th>\n",
       "      <th>PWR</th>\n",
       "      <th>PWR_dBm</th>\n",
       "    </tr>\n",
       "  </thead>\n",
       "  <tbody>\n",
       "    <tr>\n",
       "      <th>0</th>\n",
       "      <td>1</td>\n",
       "      <td>-8192</td>\n",
       "      <td>2018-08-30</td>\n",
       "      <td>05:05:47</td>\n",
       "      <td>71.674</td>\n",
       "      <td>-5000.00000</td>\n",
       "      <td>1.415397e+06</td>\n",
       "      <td>1.000000</td>\n",
       "      <td>0.000</td>\n",
       "    </tr>\n",
       "    <tr>\n",
       "      <th>1</th>\n",
       "      <td>1</td>\n",
       "      <td>-8191</td>\n",
       "      <td>2018-08-30</td>\n",
       "      <td>05:05:47</td>\n",
       "      <td>71.674</td>\n",
       "      <td>-4999.38965</td>\n",
       "      <td>1.415398e+06</td>\n",
       "      <td>1.000000</td>\n",
       "      <td>0.000</td>\n",
       "    </tr>\n",
       "    <tr>\n",
       "      <th>2</th>\n",
       "      <td>1</td>\n",
       "      <td>-8190</td>\n",
       "      <td>2018-08-30</td>\n",
       "      <td>05:05:47</td>\n",
       "      <td>71.674</td>\n",
       "      <td>-4998.77930</td>\n",
       "      <td>1.415398e+06</td>\n",
       "      <td>0.571842</td>\n",
       "      <td>-2.427</td>\n",
       "    </tr>\n",
       "    <tr>\n",
       "      <th>3</th>\n",
       "      <td>1</td>\n",
       "      <td>-8189</td>\n",
       "      <td>2018-08-30</td>\n",
       "      <td>05:05:47</td>\n",
       "      <td>71.674</td>\n",
       "      <td>-4998.16895</td>\n",
       "      <td>1.415399e+06</td>\n",
       "      <td>0.573207</td>\n",
       "      <td>-2.417</td>\n",
       "    </tr>\n",
       "    <tr>\n",
       "      <th>4</th>\n",
       "      <td>1</td>\n",
       "      <td>-8188</td>\n",
       "      <td>2018-08-30</td>\n",
       "      <td>05:05:47</td>\n",
       "      <td>71.674</td>\n",
       "      <td>-4997.55859</td>\n",
       "      <td>1.415399e+06</td>\n",
       "      <td>0.575545</td>\n",
       "      <td>-2.399</td>\n",
       "    </tr>\n",
       "  </tbody>\n",
       "</table>\n",
       "</div>"
      ],
      "text/plain": [
       "   Spec  Line         YMD       HMS     Sec          dF             F  \\\n",
       "0     1 -8192  2018-08-30  05:05:47  71.674 -5000.00000  1.415397e+06   \n",
       "1     1 -8191  2018-08-30  05:05:47  71.674 -4999.38965  1.415398e+06   \n",
       "2     1 -8190  2018-08-30  05:05:47  71.674 -4998.77930  1.415398e+06   \n",
       "3     1 -8189  2018-08-30  05:05:47  71.674 -4998.16895  1.415399e+06   \n",
       "4     1 -8188  2018-08-30  05:05:47  71.674 -4997.55859  1.415399e+06   \n",
       "\n",
       "        PWR  PWR_dBm  \n",
       "0  1.000000    0.000  \n",
       "1  1.000000    0.000  \n",
       "2  0.571842   -2.427  \n",
       "3  0.573207   -2.417  \n",
       "4  0.575545   -2.399  "
      ]
     },
     "execution_count": 32,
     "metadata": {},
     "output_type": "execute_result"
    }
   ],
   "source": [
    "df4.head()"
   ]
  },
  {
   "cell_type": "markdown",
   "metadata": {},
   "source": [
    "The file `df2.small` is about 300 kb, versus 1.8 mb for the original `.fft` file, a reduction of a factor of 6."
   ]
  },
  {
   "cell_type": "code",
   "execution_count": 33,
   "metadata": {},
   "outputs": [
    {
     "data": {
      "text/plain": [
       "16384"
      ]
     },
     "execution_count": 33,
     "metadata": {},
     "output_type": "execute_result"
    }
   ],
   "source": [
    "len(df4)"
   ]
  },
  {
   "cell_type": "markdown",
   "metadata": {},
   "source": [
    "## Get, Pickle and Compress All of the Files"
   ]
  },
  {
   "cell_type": "code",
   "execution_count": 34,
   "metadata": {},
   "outputs": [
    {
     "data": {
      "text/plain": [
       "1418"
      ]
     },
     "execution_count": 34,
     "metadata": {},
     "output_type": "execute_result"
    }
   ],
   "source": [
    "len(file_list)"
   ]
  },
  {
   "cell_type": "code",
   "execution_count": 35,
   "metadata": {},
   "outputs": [
    {
     "data": {
      "text/plain": [
       "['LTO-HI-2018-08-30-00-00-00_1420397kHz.fft']"
      ]
     },
     "execution_count": 35,
     "metadata": {},
     "output_type": "execute_result"
    }
   ],
   "source": [
    "file_list[0]['title'].split(sep='[-_]')"
   ]
  },
  {
   "cell_type": "code",
   "execution_count": 36,
   "metadata": {},
   "outputs": [],
   "source": [
    "import re"
   ]
  },
  {
   "cell_type": "code",
   "execution_count": 37,
   "metadata": {},
   "outputs": [
    {
     "name": "stderr",
     "output_type": "stream",
     "text": [
      "C:\\Users\\kevin\\Anaconda3\\lib\\re.py:212: FutureWarning: split() requires a non-empty pattern match.\n",
      "  return _compile(pattern, flags).split(string, maxsplit)\n"
     ]
    },
    {
     "data": {
      "text/plain": [
       "['LTO', 'HI', '2018', '08', '30', '00', '00', '00', '1420397kHz.fft']"
      ]
     },
     "execution_count": 37,
     "metadata": {},
     "output_type": "execute_result"
    }
   ],
   "source": [
    "re.split('-|_|',file_list[0]['title'])"
   ]
  },
  {
   "cell_type": "code",
   "execution_count": 38,
   "metadata": {},
   "outputs": [
    {
     "name": "stderr",
     "output_type": "stream",
     "text": [
      "C:\\Users\\kevin\\Anaconda3\\lib\\re.py:212: FutureWarning: split() requires a non-empty pattern match.\n",
      "  return _compile(pattern, flags).split(string, maxsplit)\n"
     ]
    },
    {
     "data": {
      "text/plain": [
       "['2018', '08', '30', '00', '00', '00']"
      ]
     },
     "execution_count": 38,
     "metadata": {},
     "output_type": "execute_result"
    }
   ],
   "source": [
    "re.split('-|_|',file_list[0]['title'])[2:8]"
   ]
  },
  {
   "cell_type": "code",
   "execution_count": 39,
   "metadata": {},
   "outputs": [
    {
     "name": "stderr",
     "output_type": "stream",
     "text": [
      "C:\\Users\\kevin\\Anaconda3\\lib\\re.py:212: FutureWarning: split() requires a non-empty pattern match.\n",
      "  return _compile(pattern, flags).split(string, maxsplit)\n"
     ]
    },
    {
     "data": {
      "text/plain": [
       "'data/2018-08-30-00-00-00.pcl'"
      ]
     },
     "execution_count": 39,
     "metadata": {},
     "output_type": "execute_result"
    }
   ],
   "source": [
    "'data/'+'-'.join(re.split('-|_|',file_list[0]['title'])[2:8])+'.pcl'"
   ]
  },
  {
   "cell_type": "markdown",
   "metadata": {},
   "source": [
    "Keep this coded commented out unless you have about 20 minutes."
   ]
  },
  {
   "cell_type": "code",
   "execution_count": 40,
   "metadata": {},
   "outputs": [],
   "source": [
    "ffts = [f for f in file_list if re.search('._1420397kHz.fft$',f['title'])]"
   ]
  },
  {
   "cell_type": "code",
   "execution_count": 44,
   "metadata": {},
   "outputs": [
    {
     "name": "stdout",
     "output_type": "stream",
     "text": [
      "len orig file list: 1418, fft file list: 1415\n"
     ]
    }
   ],
   "source": [
    "print ('len orig file list: %d, fft file list: %d' % (len(file_list), len(ffts)))"
   ]
  },
  {
   "cell_type": "code",
   "execution_count": 45,
   "metadata": {},
   "outputs": [],
   "source": [
    "from pathlib import Path\n",
    "\n",
    "#my_file = Path(\"/path/to/file\")\n",
    "#if my_file.is_file():\n",
    "    # file exists"
   ]
  },
  {
   "cell_type": "code",
   "execution_count": 47,
   "metadata": {},
   "outputs": [
    {
     "name": "stderr",
     "output_type": "stream",
     "text": [
      "C:\\Users\\kevin\\Anaconda3\\lib\\re.py:212: FutureWarning: split() requires a non-empty pattern match.\n",
      "  return _compile(pattern, flags).split(string, maxsplit)\n"
     ]
    }
   ],
   "source": [
    "for f in ffts:\n",
    "    fout = 'data/'+'-'.join(re.split('-|_|',f['title'])[2:8])+'.pcl'\n",
    "    my_file = Path(fout)\n",
    "    if not my_file.is_file(): #go get the data\n",
    "        df = get_data(f)\n",
    "        with bz2.BZ2File(fout, 'w') as sfile:\n",
    "            pickle.dump(df, sfile)"
   ]
  },
  {
   "cell_type": "code",
   "execution_count": null,
   "metadata": {},
   "outputs": [],
   "source": [
    "['a','b','c'][-1:3]"
   ]
  },
  {
   "cell_type": "code",
   "execution_count": null,
   "metadata": {},
   "outputs": [],
   "source": [
    "file_list[-1]['title']"
   ]
  },
  {
   "cell_type": "code",
   "execution_count": null,
   "metadata": {},
   "outputs": [],
   "source": [
    "for f in file_list[-10:]:\n",
    "    print (f['title'])"
   ]
  },
  {
   "cell_type": "code",
   "execution_count": null,
   "metadata": {},
   "outputs": [],
   "source": [
    "len(file_list[0:-3])"
   ]
  },
  {
   "cell_type": "code",
   "execution_count": null,
   "metadata": {},
   "outputs": [],
   "source": [
    "file_list[-2]['title']"
   ]
  },
  {
   "cell_type": "code",
   "execution_count": null,
   "metadata": {},
   "outputs": [],
   "source": [
    "fout = 'images/' +file_list[-2]['title']"
   ]
  },
  {
   "cell_type": "code",
   "execution_count": null,
   "metadata": {},
   "outputs": [],
   "source": [
    "fout"
   ]
  },
  {
   "cell_type": "code",
   "execution_count": null,
   "metadata": {},
   "outputs": [],
   "source": [
    "file_list[-2].GetContentFile(fout)"
   ]
  },
  {
   "cell_type": "code",
   "execution_count": null,
   "metadata": {},
   "outputs": [],
   "source": [
    "import Image\n",
    "\n",
    "image = Image.open(fout)\n",
    "image.show()"
   ]
  },
  {
   "cell_type": "code",
   "execution_count": null,
   "metadata": {},
   "outputs": [],
   "source": [
    "%matplotlib inline\n",
    "import matplotlib.pyplot as plt\n",
    "import matplotlib.image as mpimg\n",
    "from matplotlib import rcParams, cm\n",
    "\n",
    "rcParams['figure.figsize'] = [20.0, 20.0]\n",
    "\n",
    "img=mpimg.imread(fout)\n",
    "imgplot = plt.imshow(img)\n",
    "plt.show()"
   ]
  },
  {
   "cell_type": "markdown",
   "metadata": {},
   "source": [
    "![Some Title](images/LTO-HI-2018-08-30.png)"
   ]
  },
  {
   "cell_type": "code",
   "execution_count": null,
   "metadata": {},
   "outputs": [],
   "source": []
  }
 ],
 "metadata": {
  "kernelspec": {
   "display_name": "Python 3",
   "language": "python",
   "name": "python3"
  },
  "language_info": {
   "codemirror_mode": {
    "name": "ipython",
    "version": 3
   },
   "file_extension": ".py",
   "mimetype": "text/x-python",
   "name": "python",
   "nbconvert_exporter": "python",
   "pygments_lexer": "ipython3",
   "version": "3.6.0"
  }
 },
 "nbformat": 4,
 "nbformat_minor": 2
}
