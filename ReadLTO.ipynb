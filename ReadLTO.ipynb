{
 "cells": [
  {
   "cell_type": "markdown",
   "metadata": {},
   "source": [
    "# Read an LTO File\n",
    "\n",
    "[Struct Library](https://docs.python.org/3/library/struct.html)\n"
   ]
  },
  {
   "cell_type": "code",
   "execution_count": 1,
   "metadata": {},
   "outputs": [],
   "source": [
    "from struct import *\n",
    "import numpy as np"
   ]
  },
  {
   "cell_type": "code",
   "execution_count": 2,
   "metadata": {},
   "outputs": [],
   "source": [
    "path = 'Test-flat.LTO'"
   ]
  },
  {
   "cell_type": "markdown",
   "metadata": {},
   "source": [
    "## LTO File Header Structure\n",
    "...is divided into several sections as follows:"
   ]
  },
  {
   "cell_type": "code",
   "execution_count": 3,
   "metadata": {},
   "outputs": [],
   "source": [
    "# empty dictionary to hold the header structure\n",
    "LTO_File_Hdr = {}"
   ]
  },
  {
   "cell_type": "code",
   "execution_count": 4,
   "metadata": {},
   "outputs": [],
   "source": [
    "# magic number at top of file\n",
    "LTO_File_Hdr[\"Magic\"] =  [\n",
    "    ('magic',   int, 'i'),\n",
    "    ('version', int, 'i')\n",
    "]"
   ]
  },
  {
   "cell_type": "code",
   "execution_count": 5,
   "metadata": {},
   "outputs": [],
   "source": [
    "# observatory\n",
    "LTO_File_Hdr['Observatory'] = [\n",
    "    ('obs_name', str, '32s'),\n",
    "    ('obs_id',   int, 'i'),\n",
    "    ('ref_type', str, '32s'),\n",
    "    ('clock_type',str,'32s'),\n",
    "    ('rx_type',  str, '32s')\n",
    "]"
   ]
  },
  {
   "cell_type": "code",
   "execution_count": 6,
   "metadata": {},
   "outputs": [],
   "source": [
    "# obs loc\n",
    "#f_obsloc_tup = namedtuple('F_Obsloc_tup',['lat', 'lon', 'alt'])\n",
    "#f_obsloc_fmt = '<3f'\n",
    "LTO_File_Hdr['ObsLocation'] = [\n",
    "    ('lat', float, 'f'),\n",
    "    ('lon', float, 'f'),\n",
    "    ('alt', float, 'f')\n",
    "]"
   ]
  },
  {
   "cell_type": "code",
   "execution_count": 7,
   "metadata": {},
   "outputs": [],
   "source": [
    "# beam pos\n",
    "LTO_File_Hdr['BeamPosition'] = [\n",
    "    ('az',    float, 'f'),\n",
    "    ('el',    float, 'f'),\n",
    "    ('dec',   float, 'f'),\n",
    "    ('ra',    float, 'f'),\n",
    "    ('user1', str,   '64s')\n",
    "]"
   ]
  },
  {
   "cell_type": "code",
   "execution_count": 8,
   "metadata": {},
   "outputs": [],
   "source": [
    "#observing time\n",
    "\n",
    "LTO_File_Hdr['ObsTime'] = [\n",
    "    ('year',   int, 'l'),\n",
    "    ('daynum', int, 'l'),\n",
    "    ('month',  int, 'l'),\n",
    "    ('day',    int, 'l'),\n",
    "    ('hour',   int, 'l'),\n",
    "    ('minute', int, 'l'),\n",
    "    ('second', float, 'f'),\n",
    "    ('epoch',  int,  'q'), #q = 8 byte int\n",
    "    ('julian', float, 'd'), #d = double maps to python float\n",
    "    ('GST',    float, 'd'),\n",
    "    ('LST',    float, 'd'),\n",
    "    ('readme', str, '128s'),\n",
    "    ('user2',  str, '64s')\n",
    "]"
   ]
  },
  {
   "cell_type": "code",
   "execution_count": 9,
   "metadata": {},
   "outputs": [],
   "source": [
    "#Spectrum:\n",
    "LTO_File_Hdr['Spectrum'] =[\n",
    "    ('samplerate',  float, 'f'),\n",
    "    ('wordformat',  int,   'l'),\n",
    "    ('numchannels', int,   'l'),\n",
    "    ('lenfft',      int,   'l'),\n",
    "    ('numspec',     int,   'l'),\n",
    "    ('numave',      int,   'l'),\n",
    "    ('period',      float, 'f'),\n",
    "    ('dfs',         float, 'f'),\n",
    "    ('cf',          float, 'd'), # 8 byte float\n",
    "    ('nenbw',       float, 'f'),\n",
    "    ('enbw',        float, 'f'),\n",
    "    ('ws1',         float, 'f'),\n",
    "    ('ws2',         float, 'f'),\n",
    "    ('dt',          float, 'f'),\n",
    "    ('user3',       str,   '64s')\n",
    "]"
   ]
  },
  {
   "cell_type": "code",
   "execution_count": 10,
   "metadata": {},
   "outputs": [],
   "source": [
    "#Radio Calibrations\n",
    "LTO_File_Hdr['RadioCalibrations'] = [\n",
    "    ('g0feed',      float, 'f'),\n",
    "    ('g0rx',        float, 'f'),\n",
    "    ('g03',         float, 'f'),\n",
    "    ('feedtemp',    float, 'f'),\n",
    "    ('rxtemp',      float, 'f'),\n",
    "    ('temp3',       float, 'f'),\n",
    "    ('noisefigure', float, 'f'),\n",
    "    ('dgdtf',       float, 'f'),\n",
    "    ('dgdtr',       float, 'f'),\n",
    "    ('dgdt3',       float, 'f'),\n",
    "    ('tsys',        float, 'f'),\n",
    "    ('aeff',        float, 'f'),\n",
    "    ('pcal',        float, 'f'),\n",
    "    ('gsys',        float, 'd'),\n",
    "    ('user4',       str,   '64s'),\n",
    "]"
   ]
  },
  {
   "cell_type": "code",
   "execution_count": 11,
   "metadata": {},
   "outputs": [],
   "source": [
    "#Program Control\n",
    "LTO_File_Hdr['ProgramControl'] = [\n",
    "    ('fscale',  float,'f'),\n",
    "    ('flatwfm', bool, 'L'), # read these as 4-byte unsigned longs\n",
    "    ('flatirq', bool, 'L'),\n",
    "    ('bogie',   bool, 'L'),\n",
    "    ('smooth',  bool, 'L'),\n",
    "    ('spikes',  bool, 'L'),\n",
    "    ('rmlo',    bool, 'L'),\n",
    "    ('whole',   bool, 'L'),\n",
    "    ('window',  bool, 'L'),\n",
    "    ('winnum',  int,  'l'),\n",
    "    ('overlap', float,'f'),\n",
    "    ('user5',   str,  '64s')\n",
    "]"
   ]
  },
  {
   "cell_type": "code",
   "execution_count": 12,
   "metadata": {},
   "outputs": [],
   "source": [
    "LTO_File_Hdr['SpectralCharacteristics'] = [\n",
    "    ('flow', float, 'f'),\n",
    "    ('fhigh', float, 'f'),\n",
    "    ('ndlow', int, 'l'),\n",
    "    ('ndhigh', int, 'l'),\n",
    "    ('avespecpwr', float, 'f'),\n",
    "    ('varspecpwr', float, 'f'),\n",
    "    ('numspecpwr', int, 'l'),\n",
    "    ('peakpwr', float, 'f'),\n",
    "    ('peakpwrfreq', float, 'd'),\n",
    "    ('totalHIpwr', float, 'f'),\n",
    "    ('numHIpwr', int, 'l'),\n",
    "    ('avecrpwr', float, 'f'),\n",
    "    ('varcrpwr', float, 'f'),\n",
    "    ('numcrpwr', int, 'l'),\n",
    "    ('avetsky', float, 'f'),\n",
    "    ('vartsky', float, 'f'),\n",
    "    ('peaktsky', float, 'f'),\n",
    "    ('peaktskyfreq', float, 'f'),\n",
    "    ('avefluxden', float, 'f'),\n",
    "    ('varfluxden', float, 'f'),\n",
    "    ('peakfluxden', float, 'f'),\n",
    "    ('peakfluxfreq', float, 'f'),\n",
    "    ('badspec', bool, 'L'),\n",
    "    ('processing', str, '64s'),\n",
    "    ('user', str, '64s')\n",
    "    \n",
    "]"
   ]
  },
  {
   "cell_type": "markdown",
   "metadata": {},
   "source": [
    "## Data Arrays\n",
    "The actual spectral data follows the header in the data file. Each array is a contiguous block of LenFFT elements.  Element types (and therefore their size in the file) vary"
   ]
  },
  {
   "cell_type": "code",
   "execution_count": 13,
   "metadata": {},
   "outputs": [],
   "source": [
    "#these guys are all arrays of len = lenfft\n",
    "LTO_File_Data = {}\n",
    "LTO_File_Data['data'] = [\n",
    "    ('dopfreq',   float, 'f'),\n",
    "    ('rawavepwr', float, 'f'),\n",
    "    ('rawvarpwr', float, 'f'),\n",
    "    ('calavepwr', float, 'f'),\n",
    "    ('calvarpwr', float, 'f'),\n",
    "    ('tsky',      float, 'f'),\n",
    "    ('tskyvar',   float, 'f'),\n",
    "    ('fluxden',   float, 'f'),\n",
    "    ('fluxdenvar',float, 'f'),\n",
    "    ('badline',   bool,  'L'), #booleans read as unsigned longs\n",
    "    ('HIline',    bool,  'L')\n",
    "]"
   ]
  },
  {
   "cell_type": "markdown",
   "metadata": {},
   "source": [
    "## Read the Header\n",
    "Data arrays later. This bombs out on the Spectral Charcteristics section of the header, doesn't make it down to the assertion."
   ]
  },
  {
   "cell_type": "code",
   "execution_count": 14,
   "metadata": {},
   "outputs": [
    {
     "ename": "UnicodeDecodeError",
     "evalue": "'utf-8' codec can't decode byte 0x80 in position 16: invalid start byte",
     "output_type": "error",
     "traceback": [
      "\u001b[0;31m---------------------------------------------------------------------------\u001b[0m",
      "\u001b[0;31mUnicodeDecodeError\u001b[0m                        Traceback (most recent call last)",
      "\u001b[0;32m<ipython-input-14-33229cc3c73a>\u001b[0m in \u001b[0;36m<module>\u001b[0;34m()\u001b[0m\n\u001b[1;32m     11\u001b[0m             \u001b[0mv\u001b[0m \u001b[1;33m=\u001b[0m \u001b[0munpack\u001b[0m\u001b[1;33m(\u001b[0m\u001b[0mfmt\u001b[0m\u001b[1;33m,\u001b[0m \u001b[0mbuf\u001b[0m\u001b[1;33m)\u001b[0m\u001b[1;33m[\u001b[0m\u001b[1;36m0\u001b[0m\u001b[1;33m]\u001b[0m\u001b[1;33m\u001b[0m\u001b[0m\n\u001b[1;32m     12\u001b[0m             \u001b[1;32mif\u001b[0m \u001b[0mf\u001b[0m\u001b[1;33m[\u001b[0m\u001b[1;36m1\u001b[0m\u001b[1;33m]\u001b[0m \u001b[1;33m==\u001b[0m \u001b[0mstr\u001b[0m\u001b[1;33m:\u001b[0m\u001b[1;33m\u001b[0m\u001b[0m\n\u001b[0;32m---> 13\u001b[0;31m                 \u001b[0mv\u001b[0m \u001b[1;33m=\u001b[0m \u001b[0mv\u001b[0m\u001b[1;33m.\u001b[0m\u001b[0mdecode\u001b[0m\u001b[1;33m(\u001b[0m\u001b[1;34m'utf8'\u001b[0m\u001b[1;33m)\u001b[0m\u001b[1;33m.\u001b[0m\u001b[0mstrip\u001b[0m\u001b[1;33m(\u001b[0m\u001b[1;33m)\u001b[0m\u001b[1;33m\u001b[0m\u001b[0m\n\u001b[0m\u001b[1;32m     14\u001b[0m             \u001b[1;32melif\u001b[0m \u001b[0mf\u001b[0m\u001b[1;33m[\u001b[0m\u001b[1;36m1\u001b[0m\u001b[1;33m]\u001b[0m \u001b[1;33m==\u001b[0m \u001b[0mbool\u001b[0m\u001b[1;33m:\u001b[0m\u001b[1;33m\u001b[0m\u001b[0m\n\u001b[1;32m     15\u001b[0m                 \u001b[0mv\u001b[0m \u001b[1;33m=\u001b[0m \u001b[0mbool\u001b[0m\u001b[1;33m(\u001b[0m\u001b[0mv\u001b[0m \u001b[1;33m!=\u001b[0m \u001b[1;36m0\u001b[0m\u001b[1;33m)\u001b[0m\u001b[1;33m\u001b[0m\u001b[0m\n",
      "\u001b[0;31mUnicodeDecodeError\u001b[0m: 'utf-8' codec can't decode byte 0x80 in position 16: invalid start byte"
     ]
    }
   ],
   "source": [
    "lto_hdr = {}\n",
    "with open(path, 'rb') as fin:\n",
    "    \n",
    "    # read the file header\n",
    "    for sect in LTO_File_Hdr: # loop thru the sections and read the members of each\n",
    "        sect_dict = {}\n",
    "        for f in LTO_File_Hdr[sect]:\n",
    "            fmt = '<'+ f[2]\n",
    "            n = calcsize(fmt)\n",
    "            buf = fin.read(n)\n",
    "            v = unpack(fmt, buf)[0]\n",
    "            if f[1] == str:\n",
    "                v = v.decode('utf8').strip()\n",
    "            elif f[1] == bool:\n",
    "                v = bool(v != 0)\n",
    "            sect_dict[f[0]] = v\n",
    "            \n",
    "        lto_hdr[sect] = sect_dict\n",
    "        \n",
    "    assert(False) #bomb out if we get this far (deal with data arrays later)\n",
    "    \n",
    "    # read the data arrays\n",
    "    nelems = lto_hdr['Spectrum']['lenfft'] # each array is this long\n",
    "    data = {}\n",
    "    for d in data_arrays['vals']:\n",
    "        fmt = '<' + str(nelems) + d[2]\n",
    "        n = calcsize(fmt)\n",
    "        buf = fin.read(n)\n",
    "        if d[1] == bool:\n",
    "            data[d[0]] = (np.array(unpack(fmt, buf)) != 0)\n",
    "        else:\n",
    "            data[d[0]] = np.array(unpack(fmt, buf))\n",
    "    lto_file = {'Header': lto_hdr, 'Data': data}"
   ]
  },
  {
   "cell_type": "code",
   "execution_count": 16,
   "metadata": {},
   "outputs": [
    {
     "data": {
      "text/plain": [
       "('SpectralCharacteristics', 'user')"
      ]
     },
     "execution_count": 16,
     "metadata": {},
     "output_type": "execute_result"
    }
   ],
   "source": [
    "# section and field that it bombed on:\n",
    "sect, f[0]"
   ]
  },
  {
   "cell_type": "markdown",
   "metadata": {},
   "source": [
    "## Verification"
   ]
  },
  {
   "cell_type": "code",
   "execution_count": 17,
   "metadata": {},
   "outputs": [],
   "source": [
    "def printsection(hdr, sect):\n",
    "    print ('\\nHeader Section: '+ sect)\n",
    "    for f in LTO_File_Hdr[sect]:\n",
    "        print('\\t'+f[0]+': '+str(hdr[sect][f[0]]))\n",
    "        "
   ]
  },
  {
   "cell_type": "code",
   "execution_count": 18,
   "metadata": {},
   "outputs": [
    {
     "name": "stdout",
     "output_type": "stream",
     "text": [
      "\n",
      "Header Section: Magic\n",
      "\tmagic: 1330924544\n",
      "\tversion: 1\n",
      "\n",
      "Header Section: Observatory\n",
      "\tobs_name: Little Thompson Observatory\n",
      "\tobs_id: 1\n",
      "\tref_type: OCXO\n",
      "\tclock_type: Windows NTP\n",
      "\trx_type: Airspy\n",
      "\n",
      "Header Section: ObsLocation\n",
      "\tlat: 40.29953384399414\n",
      "\tlon: -105.08438873291016\n",
      "\talt: 1534.0\n",
      "\n",
      "Header Section: BeamPosition\n",
      "\taz: 180.0\n",
      "\tel: 21.0\n",
      "\tdec: -28.70046615600586\n",
      "\tra: 15.03388500213623\n",
      "\tuser1: SDR# Gains=8,8,11\n",
      "\n",
      "Header Section: ObsTime\n",
      "\tyear: 2018\n",
      "\tdaynum: 737328\n",
      "\tmonth: 11\n",
      "\tday: 25\n",
      "\thour: 17\n",
      "\tminute: 43\n",
      "\tsecond: 38.0\n",
      "\tepoch: 0\n",
      "\tjulian: 2458448.2386342683\n",
      "\tGST: 22.039510572969448\n",
      "\tLST: 15.033884657442105\n",
      "\treadme: \n",
      "\tuser2: \n",
      "\n",
      "Header Section: Spectrum\n",
      "\tsamplerate: 10000000.0\n",
      "\twordformat: 0\n",
      "\tnumchannels: 2\n",
      "\tlenfft: 16384\n",
      "\tnumspec: 1\n",
      "\tnumave: 15076\n",
      "\tperiod: 0.001638400019146502\n",
      "\tdfs: 610.3515625\n",
      "\tcf: 0.0\n",
      "\tnenbw: 1.0\n",
      "\tenbw: 610.3515625\n",
      "\tws1: 1.0\n",
      "\tws2: 16384.0\n",
      "\tdt: 24.700517654418945\n",
      "\tuser3: \n",
      "\n",
      "Header Section: RadioCalibrations\n",
      "\tg0feed: 18.0\n",
      "\tg0rx: 158.0\n",
      "\tg03: 0.0\n",
      "\tfeedtemp: 290.0\n",
      "\trxtemp: 290.0\n",
      "\ttemp3: 0.0\n",
      "\tnoisefigure: 1.100000023841858\n",
      "\tdgdtf: 0.0\n",
      "\tdgdtr: 0.0\n",
      "\tdgdt3: 0.0\n",
      "\ttsys: 100.0\n",
      "\taeff: 11.300000190734863\n",
      "\tpcal: 1.0\n",
      "\tgsys: 1.0\n",
      "\tuser4: \n",
      "\n",
      "Header Section: ProgramControl\n",
      "\tfscale: 1.0\n",
      "\tflatwfm: False\n",
      "\tflatirq: True\n",
      "\tbogie: True\n",
      "\tsmooth: False\n",
      "\tspikes: False\n",
      "\trmlo: False\n",
      "\twhole: True\n",
      "\twindow: False\n",
      "\twinnum: 0\n",
      "\toverlap: 0.0\n",
      "\tuser5: \n",
      "\n",
      "Header Section: SpectralCharacteristics\n"
     ]
    },
    {
     "ename": "KeyError",
     "evalue": "'SpectralCharacteristics'",
     "output_type": "error",
     "traceback": [
      "\u001b[0;31m---------------------------------------------------------------------------\u001b[0m",
      "\u001b[0;31mKeyError\u001b[0m                                  Traceback (most recent call last)",
      "\u001b[0;32m<ipython-input-18-fd86d39d5a52>\u001b[0m in \u001b[0;36m<module>\u001b[0;34m()\u001b[0m\n\u001b[1;32m      1\u001b[0m \u001b[1;32mfor\u001b[0m \u001b[0msect\u001b[0m \u001b[1;32min\u001b[0m \u001b[0mLTO_File_Hdr\u001b[0m\u001b[1;33m:\u001b[0m\u001b[1;33m\u001b[0m\u001b[0m\n\u001b[0;32m----> 2\u001b[0;31m     \u001b[0mprintsection\u001b[0m\u001b[1;33m(\u001b[0m\u001b[0mlto_hdr\u001b[0m\u001b[1;33m,\u001b[0m\u001b[0msect\u001b[0m\u001b[1;33m)\u001b[0m\u001b[1;33m\u001b[0m\u001b[0m\n\u001b[0m",
      "\u001b[0;32m<ipython-input-17-a559708501b7>\u001b[0m in \u001b[0;36mprintsection\u001b[0;34m(hdr, sect)\u001b[0m\n\u001b[1;32m      2\u001b[0m     \u001b[0mprint\u001b[0m \u001b[1;33m(\u001b[0m\u001b[1;34m'\\nHeader Section: '\u001b[0m\u001b[1;33m+\u001b[0m \u001b[0msect\u001b[0m\u001b[1;33m)\u001b[0m\u001b[1;33m\u001b[0m\u001b[0m\n\u001b[1;32m      3\u001b[0m     \u001b[1;32mfor\u001b[0m \u001b[0mf\u001b[0m \u001b[1;32min\u001b[0m \u001b[0mLTO_File_Hdr\u001b[0m\u001b[1;33m[\u001b[0m\u001b[0msect\u001b[0m\u001b[1;33m]\u001b[0m\u001b[1;33m:\u001b[0m\u001b[1;33m\u001b[0m\u001b[0m\n\u001b[0;32m----> 4\u001b[0;31m         \u001b[0mprint\u001b[0m\u001b[1;33m(\u001b[0m\u001b[1;34m'\\t'\u001b[0m\u001b[1;33m+\u001b[0m\u001b[0mf\u001b[0m\u001b[1;33m[\u001b[0m\u001b[1;36m0\u001b[0m\u001b[1;33m]\u001b[0m\u001b[1;33m+\u001b[0m\u001b[1;34m': '\u001b[0m\u001b[1;33m+\u001b[0m\u001b[0mstr\u001b[0m\u001b[1;33m(\u001b[0m\u001b[0mhdr\u001b[0m\u001b[1;33m[\u001b[0m\u001b[0msect\u001b[0m\u001b[1;33m]\u001b[0m\u001b[1;33m[\u001b[0m\u001b[0mf\u001b[0m\u001b[1;33m[\u001b[0m\u001b[1;36m0\u001b[0m\u001b[1;33m]\u001b[0m\u001b[1;33m]\u001b[0m\u001b[1;33m)\u001b[0m\u001b[1;33m)\u001b[0m\u001b[1;33m\u001b[0m\u001b[0m\n\u001b[0m\u001b[1;32m      5\u001b[0m \u001b[1;33m\u001b[0m\u001b[0m\n",
      "\u001b[0;31mKeyError\u001b[0m: 'SpectralCharacteristics'"
     ]
    }
   ],
   "source": [
    "for sect in LTO_File_Hdr:\n",
    "    printsection(lto_hdr,sect)"
   ]
  },
  {
   "cell_type": "markdown",
   "metadata": {},
   "source": [
    "## Spectral Characteristics So Far\n",
    "Note that the first two struct members, `flow` and `fhigh` match their values in the text .fft file. However the next value `ndlow` doens't match."
   ]
  },
  {
   "cell_type": "code",
   "execution_count": 19,
   "metadata": {},
   "outputs": [
    {
     "name": "stdout",
     "output_type": "stream",
     "text": [
      "\tflow: -3000000.0\n",
      "\tfhigh: 3000000.0\n",
      "\tndlow: 748209369\n",
      "\tndhigh: 378736672\n",
      "\tavespecpwr: 4.7120783837339975e-12\n",
      "\tvarspecpwr: -0.0\n",
      "\tnumspecpwr: 1092096188\n",
      "\tpeakpwr: 0.0\n",
      "\tpeakpwrfreq: 0.0\n",
      "\ttotalHIpwr: 0.0\n",
      "\tnumHIpwr: 0\n",
      "\tavecrpwr: 2.095391438746426e-19\n",
      "\tvarcrpwr: 1.798035001182215e-19\n",
      "\tnumcrpwr: 538976288\n",
      "\tavetsky: 1.3563156426940112e-19\n",
      "\tvartsky: 1.3563156426940112e-19\n",
      "\tpeaktsky: 1.3563156426940112e-19\n",
      "\tpeaktskyfreq: 1.3563156426940112e-19\n",
      "\tavefluxden: 1.3563156426940112e-19\n",
      "\tvarfluxden: 1.3563156426940112e-19\n",
      "\tpeakfluxden: 1.3563156426940112e-19\n",
      "\tpeakfluxfreq: 1.3563156426940112e-19\n",
      "\tbadspec: True\n",
      "\tprocessing: \n"
     ]
    },
    {
     "ename": "KeyError",
     "evalue": "'user'",
     "output_type": "error",
     "traceback": [
      "\u001b[0;31m---------------------------------------------------------------------------\u001b[0m",
      "\u001b[0;31mKeyError\u001b[0m                                  Traceback (most recent call last)",
      "\u001b[0;32m<ipython-input-19-251ad61578ab>\u001b[0m in \u001b[0;36m<module>\u001b[0;34m()\u001b[0m\n\u001b[1;32m      1\u001b[0m \u001b[1;32mfor\u001b[0m \u001b[0mf\u001b[0m \u001b[1;32min\u001b[0m \u001b[0mLTO_File_Hdr\u001b[0m\u001b[1;33m[\u001b[0m\u001b[1;34m'SpectralCharacteristics'\u001b[0m\u001b[1;33m]\u001b[0m\u001b[1;33m:\u001b[0m\u001b[1;33m\u001b[0m\u001b[0m\n\u001b[0;32m----> 2\u001b[0;31m     \u001b[0mprint\u001b[0m\u001b[1;33m(\u001b[0m\u001b[1;34m'\\t'\u001b[0m\u001b[1;33m+\u001b[0m \u001b[0mf\u001b[0m\u001b[1;33m[\u001b[0m\u001b[1;36m0\u001b[0m\u001b[1;33m]\u001b[0m\u001b[1;33m+\u001b[0m\u001b[1;34m': '\u001b[0m\u001b[1;33m+\u001b[0m\u001b[0mstr\u001b[0m\u001b[1;33m(\u001b[0m\u001b[0msect_dict\u001b[0m\u001b[1;33m[\u001b[0m\u001b[0mf\u001b[0m\u001b[1;33m[\u001b[0m\u001b[1;36m0\u001b[0m\u001b[1;33m]\u001b[0m\u001b[1;33m]\u001b[0m\u001b[1;33m)\u001b[0m\u001b[1;33m)\u001b[0m\u001b[1;33m\u001b[0m\u001b[0m\n\u001b[0m",
      "\u001b[0;31mKeyError\u001b[0m: 'user'"
     ]
    }
   ],
   "source": [
    "for f in LTO_File_Hdr['SpectralCharacteristics']:\n",
    "    print('\\t'+ f[0]+': '+str(sect_dict[f[0]]))"
   ]
  },
  {
   "cell_type": "markdown",
   "metadata": {},
   "source": [
    "## Diagnostic Tools"
   ]
  },
  {
   "cell_type": "code",
   "execution_count": 20,
   "metadata": {},
   "outputs": [],
   "source": [
    "# returns nwords of the file starting at offset (4-byte words)\n",
    "def getfilebytes(path, offset, nwords):\n",
    "    #4 byte words\n",
    "    with open(path,'rb') as fin:\n",
    "        fin.seek(offset)\n",
    "        buf = fin.read(nwords*4)\n",
    "    return buf\n",
    "\n",
    "    #fmt = '<'+str(nwords)+'L' #read in as unsigned ints\n",
    "    #vals = unpack(fmt, buf)\n",
    "        \n",
    "    #hexlist = ['0x%0*X' % (8,v) for v in vals]\n",
    "    #hexlist = ['0x%0*X' % (8,int(buf[v:v+4],32)) for v in range(0, len(buf),4)]\n",
    "    #return hexlist,buf\n",
    "        "
   ]
  },
  {
   "cell_type": "code",
   "execution_count": 21,
   "metadata": {},
   "outputs": [],
   "source": [
    "def hex2float(s):\n",
    "    #skip past the '0x'\n",
    "    bins = bytes([int(s[x:x+2], 16) for x in range(2, len(s), 2)])\n",
    "    return struct.unpack('<f', bins)[0]"
   ]
  },
  {
   "cell_type": "code",
   "execution_count": 22,
   "metadata": {},
   "outputs": [],
   "source": [
    "def bytes2hexwords(b):\n",
    "    #assume 4-byte words\n",
    "    l = len(b)\n",
    "    return np.array(['0x'+''.join(['%0*X' % (2,b[j]) for j in range(i,i+4)]) for i in range(0,l,4)])"
   ]
  },
  {
   "cell_type": "code",
   "execution_count": 23,
   "metadata": {},
   "outputs": [],
   "source": [
    "def bytes2ascii(b):\n",
    "    return '-'.join([chr(i) for i in b])"
   ]
  },
  {
   "cell_type": "code",
   "execution_count": 24,
   "metadata": {},
   "outputs": [],
   "source": [
    "def getval(b,fmt):\n",
    "    return( unpack('<'+fmt, b))"
   ]
  },
  {
   "cell_type": "code",
   "execution_count": 25,
   "metadata": {},
   "outputs": [],
   "source": [
    "#test by reading first 8 words of file, which will be the magic and into the observatory section\n",
    "b = getfilebytes(path,0,8)"
   ]
  },
  {
   "cell_type": "code",
   "execution_count": 26,
   "metadata": {},
   "outputs": [
    {
     "data": {
      "text/plain": [
       "array(['0x004C544F', '0x01000000', '0x4C697474', '0x6C652054',\n",
       "       '0x686F6D70', '0x736F6E20', '0x4F627365', '0x72766174'],\n",
       "      dtype='<U10')"
      ]
     },
     "execution_count": 26,
     "metadata": {},
     "output_type": "execute_result"
    }
   ],
   "source": [
    "bytes2hexwords(b)"
   ]
  },
  {
   "cell_type": "code",
   "execution_count": 27,
   "metadata": {},
   "outputs": [
    {
     "data": {
      "text/plain": [
       "'\\x00-L-T-O-\\x01-\\x00-\\x00-\\x00-L-i-t-t-l-e- -T-h-o-m-p-s-o-n- -O-b-s-e-r-v-a-t'"
      ]
     },
     "execution_count": 27,
     "metadata": {},
     "output_type": "execute_result"
    }
   ],
   "source": [
    "bytes2ascii(b)"
   ]
  },
  {
   "cell_type": "code",
   "execution_count": 28,
   "metadata": {},
   "outputs": [
    {
     "data": {
      "text/plain": [
       "(1330924544, 1)"
      ]
     },
     "execution_count": 28,
     "metadata": {},
     "output_type": "execute_result"
    }
   ],
   "source": [
    "getval(b[0:8],'ii')"
   ]
  },
  {
   "cell_type": "code",
   "execution_count": 29,
   "metadata": {},
   "outputs": [
    {
     "data": {
      "text/plain": [
       "'0x4f544c00'"
      ]
     },
     "execution_count": 29,
     "metadata": {},
     "output_type": "execute_result"
    }
   ],
   "source": [
    "#magic number\n",
    "hex(getval(b[0:4],'i')[0])"
   ]
  },
  {
   "cell_type": "code",
   "execution_count": 30,
   "metadata": {},
   "outputs": [
    {
     "data": {
      "text/plain": [
       "'L-i-t-t-l-e- -T-h-o-m-p-s-o-n- -O-b-s-e-r-v-a-t'"
      ]
     },
     "execution_count": 30,
     "metadata": {},
     "output_type": "execute_result"
    }
   ],
   "source": [
    "# the observatory section of the header starts at byte offset 8\n",
    "bytes2ascii(b[8:])"
   ]
  },
  {
   "cell_type": "markdown",
   "metadata": {},
   "source": [
    "## Compute Offsets for Each Header Member"
   ]
  },
  {
   "cell_type": "code",
   "execution_count": 31,
   "metadata": {},
   "outputs": [],
   "source": [
    "import pandas as pd"
   ]
  },
  {
   "cell_type": "code",
   "execution_count": 32,
   "metadata": {},
   "outputs": [],
   "source": [
    "hdr_df = pd.DataFrame([(s,v[0], v[1],v[2])  for s in LTO_File_Hdr for v in LTO_File_Hdr[s]],\n",
    "                     columns=['Section', 'Field', 'PythonType','Format'])\n",
    "hdr_df['FileSize'] = [calcsize('<'+f.Format) for f in hdr_df.itertuples()]\n",
    "hdr_df['Offest'] = [0]+hdr_df.FileSize.cumsum()[0:len(hdr_df)-1].tolist()"
   ]
  },
  {
   "cell_type": "code",
   "execution_count": 33,
   "metadata": {
    "scrolled": true
   },
   "outputs": [
    {
     "data": {
      "text/html": [
       "<div>\n",
       "<style scoped>\n",
       "    .dataframe tbody tr th:only-of-type {\n",
       "        vertical-align: middle;\n",
       "    }\n",
       "\n",
       "    .dataframe tbody tr th {\n",
       "        vertical-align: top;\n",
       "    }\n",
       "\n",
       "    .dataframe thead th {\n",
       "        text-align: right;\n",
       "    }\n",
       "</style>\n",
       "<table border=\"1\" class=\"dataframe\">\n",
       "  <thead>\n",
       "    <tr style=\"text-align: right;\">\n",
       "      <th></th>\n",
       "      <th>Section</th>\n",
       "      <th>Field</th>\n",
       "      <th>PythonType</th>\n",
       "      <th>Format</th>\n",
       "      <th>FileSize</th>\n",
       "      <th>Offest</th>\n",
       "    </tr>\n",
       "  </thead>\n",
       "  <tbody>\n",
       "    <tr>\n",
       "      <th>0</th>\n",
       "      <td>Magic</td>\n",
       "      <td>magic</td>\n",
       "      <td>&lt;class 'int'&gt;</td>\n",
       "      <td>i</td>\n",
       "      <td>4</td>\n",
       "      <td>0</td>\n",
       "    </tr>\n",
       "    <tr>\n",
       "      <th>1</th>\n",
       "      <td>Magic</td>\n",
       "      <td>version</td>\n",
       "      <td>&lt;class 'int'&gt;</td>\n",
       "      <td>i</td>\n",
       "      <td>4</td>\n",
       "      <td>4</td>\n",
       "    </tr>\n",
       "    <tr>\n",
       "      <th>2</th>\n",
       "      <td>Observatory</td>\n",
       "      <td>obs_name</td>\n",
       "      <td>&lt;class 'str'&gt;</td>\n",
       "      <td>32s</td>\n",
       "      <td>32</td>\n",
       "      <td>8</td>\n",
       "    </tr>\n",
       "    <tr>\n",
       "      <th>3</th>\n",
       "      <td>Observatory</td>\n",
       "      <td>obs_id</td>\n",
       "      <td>&lt;class 'int'&gt;</td>\n",
       "      <td>i</td>\n",
       "      <td>4</td>\n",
       "      <td>40</td>\n",
       "    </tr>\n",
       "    <tr>\n",
       "      <th>4</th>\n",
       "      <td>Observatory</td>\n",
       "      <td>ref_type</td>\n",
       "      <td>&lt;class 'str'&gt;</td>\n",
       "      <td>32s</td>\n",
       "      <td>32</td>\n",
       "      <td>44</td>\n",
       "    </tr>\n",
       "  </tbody>\n",
       "</table>\n",
       "</div>"
      ],
      "text/plain": [
       "       Section     Field     PythonType Format  FileSize  Offest\n",
       "0        Magic     magic  <class 'int'>      i         4       0\n",
       "1        Magic   version  <class 'int'>      i         4       4\n",
       "2  Observatory  obs_name  <class 'str'>    32s        32       8\n",
       "3  Observatory    obs_id  <class 'int'>      i         4      40\n",
       "4  Observatory  ref_type  <class 'str'>    32s        32      44"
      ]
     },
     "execution_count": 33,
     "metadata": {},
     "output_type": "execute_result"
    }
   ],
   "source": [
    "hdr_df.head()"
   ]
  },
  {
   "cell_type": "markdown",
   "metadata": {},
   "source": [
    "## Read the Spectral Characteristics Section"
   ]
  },
  {
   "cell_type": "code",
   "execution_count": 34,
   "metadata": {},
   "outputs": [
    {
     "data": {
      "text/html": [
       "<div>\n",
       "<style scoped>\n",
       "    .dataframe tbody tr th:only-of-type {\n",
       "        vertical-align: middle;\n",
       "    }\n",
       "\n",
       "    .dataframe tbody tr th {\n",
       "        vertical-align: top;\n",
       "    }\n",
       "\n",
       "    .dataframe thead th {\n",
       "        text-align: right;\n",
       "    }\n",
       "</style>\n",
       "<table border=\"1\" class=\"dataframe\">\n",
       "  <thead>\n",
       "    <tr style=\"text-align: right;\">\n",
       "      <th></th>\n",
       "      <th>Section</th>\n",
       "      <th>Field</th>\n",
       "      <th>PythonType</th>\n",
       "      <th>Format</th>\n",
       "      <th>FileSize</th>\n",
       "      <th>Offest</th>\n",
       "    </tr>\n",
       "  </thead>\n",
       "  <tbody>\n",
       "    <tr>\n",
       "      <th>70</th>\n",
       "      <td>SpectralCharacteristics</td>\n",
       "      <td>flow</td>\n",
       "      <td>&lt;class 'float'&gt;</td>\n",
       "      <td>f</td>\n",
       "      <td>4</td>\n",
       "      <td>840</td>\n",
       "    </tr>\n",
       "    <tr>\n",
       "      <th>71</th>\n",
       "      <td>SpectralCharacteristics</td>\n",
       "      <td>fhigh</td>\n",
       "      <td>&lt;class 'float'&gt;</td>\n",
       "      <td>f</td>\n",
       "      <td>4</td>\n",
       "      <td>844</td>\n",
       "    </tr>\n",
       "    <tr>\n",
       "      <th>72</th>\n",
       "      <td>SpectralCharacteristics</td>\n",
       "      <td>ndlow</td>\n",
       "      <td>&lt;class 'int'&gt;</td>\n",
       "      <td>l</td>\n",
       "      <td>4</td>\n",
       "      <td>848</td>\n",
       "    </tr>\n",
       "    <tr>\n",
       "      <th>73</th>\n",
       "      <td>SpectralCharacteristics</td>\n",
       "      <td>ndhigh</td>\n",
       "      <td>&lt;class 'int'&gt;</td>\n",
       "      <td>l</td>\n",
       "      <td>4</td>\n",
       "      <td>852</td>\n",
       "    </tr>\n",
       "    <tr>\n",
       "      <th>74</th>\n",
       "      <td>SpectralCharacteristics</td>\n",
       "      <td>avespecpwr</td>\n",
       "      <td>&lt;class 'float'&gt;</td>\n",
       "      <td>f</td>\n",
       "      <td>4</td>\n",
       "      <td>856</td>\n",
       "    </tr>\n",
       "    <tr>\n",
       "      <th>75</th>\n",
       "      <td>SpectralCharacteristics</td>\n",
       "      <td>varspecpwr</td>\n",
       "      <td>&lt;class 'float'&gt;</td>\n",
       "      <td>f</td>\n",
       "      <td>4</td>\n",
       "      <td>860</td>\n",
       "    </tr>\n",
       "    <tr>\n",
       "      <th>76</th>\n",
       "      <td>SpectralCharacteristics</td>\n",
       "      <td>numspecpwr</td>\n",
       "      <td>&lt;class 'int'&gt;</td>\n",
       "      <td>l</td>\n",
       "      <td>4</td>\n",
       "      <td>864</td>\n",
       "    </tr>\n",
       "    <tr>\n",
       "      <th>77</th>\n",
       "      <td>SpectralCharacteristics</td>\n",
       "      <td>peakpwr</td>\n",
       "      <td>&lt;class 'float'&gt;</td>\n",
       "      <td>f</td>\n",
       "      <td>4</td>\n",
       "      <td>868</td>\n",
       "    </tr>\n",
       "    <tr>\n",
       "      <th>78</th>\n",
       "      <td>SpectralCharacteristics</td>\n",
       "      <td>peakpwrfreq</td>\n",
       "      <td>&lt;class 'float'&gt;</td>\n",
       "      <td>d</td>\n",
       "      <td>8</td>\n",
       "      <td>872</td>\n",
       "    </tr>\n",
       "    <tr>\n",
       "      <th>79</th>\n",
       "      <td>SpectralCharacteristics</td>\n",
       "      <td>totalHIpwr</td>\n",
       "      <td>&lt;class 'float'&gt;</td>\n",
       "      <td>f</td>\n",
       "      <td>4</td>\n",
       "      <td>880</td>\n",
       "    </tr>\n",
       "    <tr>\n",
       "      <th>80</th>\n",
       "      <td>SpectralCharacteristics</td>\n",
       "      <td>numHIpwr</td>\n",
       "      <td>&lt;class 'int'&gt;</td>\n",
       "      <td>l</td>\n",
       "      <td>4</td>\n",
       "      <td>884</td>\n",
       "    </tr>\n",
       "    <tr>\n",
       "      <th>81</th>\n",
       "      <td>SpectralCharacteristics</td>\n",
       "      <td>avecrpwr</td>\n",
       "      <td>&lt;class 'float'&gt;</td>\n",
       "      <td>f</td>\n",
       "      <td>4</td>\n",
       "      <td>888</td>\n",
       "    </tr>\n",
       "    <tr>\n",
       "      <th>82</th>\n",
       "      <td>SpectralCharacteristics</td>\n",
       "      <td>varcrpwr</td>\n",
       "      <td>&lt;class 'float'&gt;</td>\n",
       "      <td>f</td>\n",
       "      <td>4</td>\n",
       "      <td>892</td>\n",
       "    </tr>\n",
       "    <tr>\n",
       "      <th>83</th>\n",
       "      <td>SpectralCharacteristics</td>\n",
       "      <td>numcrpwr</td>\n",
       "      <td>&lt;class 'int'&gt;</td>\n",
       "      <td>l</td>\n",
       "      <td>4</td>\n",
       "      <td>896</td>\n",
       "    </tr>\n",
       "    <tr>\n",
       "      <th>84</th>\n",
       "      <td>SpectralCharacteristics</td>\n",
       "      <td>avetsky</td>\n",
       "      <td>&lt;class 'float'&gt;</td>\n",
       "      <td>f</td>\n",
       "      <td>4</td>\n",
       "      <td>900</td>\n",
       "    </tr>\n",
       "    <tr>\n",
       "      <th>85</th>\n",
       "      <td>SpectralCharacteristics</td>\n",
       "      <td>vartsky</td>\n",
       "      <td>&lt;class 'float'&gt;</td>\n",
       "      <td>f</td>\n",
       "      <td>4</td>\n",
       "      <td>904</td>\n",
       "    </tr>\n",
       "    <tr>\n",
       "      <th>86</th>\n",
       "      <td>SpectralCharacteristics</td>\n",
       "      <td>peaktsky</td>\n",
       "      <td>&lt;class 'float'&gt;</td>\n",
       "      <td>f</td>\n",
       "      <td>4</td>\n",
       "      <td>908</td>\n",
       "    </tr>\n",
       "    <tr>\n",
       "      <th>87</th>\n",
       "      <td>SpectralCharacteristics</td>\n",
       "      <td>peaktskyfreq</td>\n",
       "      <td>&lt;class 'float'&gt;</td>\n",
       "      <td>f</td>\n",
       "      <td>4</td>\n",
       "      <td>912</td>\n",
       "    </tr>\n",
       "    <tr>\n",
       "      <th>88</th>\n",
       "      <td>SpectralCharacteristics</td>\n",
       "      <td>avefluxden</td>\n",
       "      <td>&lt;class 'float'&gt;</td>\n",
       "      <td>f</td>\n",
       "      <td>4</td>\n",
       "      <td>916</td>\n",
       "    </tr>\n",
       "    <tr>\n",
       "      <th>89</th>\n",
       "      <td>SpectralCharacteristics</td>\n",
       "      <td>varfluxden</td>\n",
       "      <td>&lt;class 'float'&gt;</td>\n",
       "      <td>f</td>\n",
       "      <td>4</td>\n",
       "      <td>920</td>\n",
       "    </tr>\n",
       "    <tr>\n",
       "      <th>90</th>\n",
       "      <td>SpectralCharacteristics</td>\n",
       "      <td>peakfluxden</td>\n",
       "      <td>&lt;class 'float'&gt;</td>\n",
       "      <td>f</td>\n",
       "      <td>4</td>\n",
       "      <td>924</td>\n",
       "    </tr>\n",
       "    <tr>\n",
       "      <th>91</th>\n",
       "      <td>SpectralCharacteristics</td>\n",
       "      <td>peakfluxfreq</td>\n",
       "      <td>&lt;class 'float'&gt;</td>\n",
       "      <td>f</td>\n",
       "      <td>4</td>\n",
       "      <td>928</td>\n",
       "    </tr>\n",
       "    <tr>\n",
       "      <th>92</th>\n",
       "      <td>SpectralCharacteristics</td>\n",
       "      <td>badspec</td>\n",
       "      <td>&lt;class 'bool'&gt;</td>\n",
       "      <td>L</td>\n",
       "      <td>4</td>\n",
       "      <td>932</td>\n",
       "    </tr>\n",
       "    <tr>\n",
       "      <th>93</th>\n",
       "      <td>SpectralCharacteristics</td>\n",
       "      <td>processing</td>\n",
       "      <td>&lt;class 'str'&gt;</td>\n",
       "      <td>64s</td>\n",
       "      <td>64</td>\n",
       "      <td>936</td>\n",
       "    </tr>\n",
       "    <tr>\n",
       "      <th>94</th>\n",
       "      <td>SpectralCharacteristics</td>\n",
       "      <td>user</td>\n",
       "      <td>&lt;class 'str'&gt;</td>\n",
       "      <td>64s</td>\n",
       "      <td>64</td>\n",
       "      <td>1000</td>\n",
       "    </tr>\n",
       "  </tbody>\n",
       "</table>\n",
       "</div>"
      ],
      "text/plain": [
       "                    Section         Field       PythonType Format  FileSize  \\\n",
       "70  SpectralCharacteristics          flow  <class 'float'>      f         4   \n",
       "71  SpectralCharacteristics         fhigh  <class 'float'>      f         4   \n",
       "72  SpectralCharacteristics         ndlow    <class 'int'>      l         4   \n",
       "73  SpectralCharacteristics        ndhigh    <class 'int'>      l         4   \n",
       "74  SpectralCharacteristics    avespecpwr  <class 'float'>      f         4   \n",
       "75  SpectralCharacteristics    varspecpwr  <class 'float'>      f         4   \n",
       "76  SpectralCharacteristics    numspecpwr    <class 'int'>      l         4   \n",
       "77  SpectralCharacteristics       peakpwr  <class 'float'>      f         4   \n",
       "78  SpectralCharacteristics   peakpwrfreq  <class 'float'>      d         8   \n",
       "79  SpectralCharacteristics    totalHIpwr  <class 'float'>      f         4   \n",
       "80  SpectralCharacteristics      numHIpwr    <class 'int'>      l         4   \n",
       "81  SpectralCharacteristics      avecrpwr  <class 'float'>      f         4   \n",
       "82  SpectralCharacteristics      varcrpwr  <class 'float'>      f         4   \n",
       "83  SpectralCharacteristics      numcrpwr    <class 'int'>      l         4   \n",
       "84  SpectralCharacteristics       avetsky  <class 'float'>      f         4   \n",
       "85  SpectralCharacteristics       vartsky  <class 'float'>      f         4   \n",
       "86  SpectralCharacteristics      peaktsky  <class 'float'>      f         4   \n",
       "87  SpectralCharacteristics  peaktskyfreq  <class 'float'>      f         4   \n",
       "88  SpectralCharacteristics    avefluxden  <class 'float'>      f         4   \n",
       "89  SpectralCharacteristics    varfluxden  <class 'float'>      f         4   \n",
       "90  SpectralCharacteristics   peakfluxden  <class 'float'>      f         4   \n",
       "91  SpectralCharacteristics  peakfluxfreq  <class 'float'>      f         4   \n",
       "92  SpectralCharacteristics       badspec   <class 'bool'>      L         4   \n",
       "93  SpectralCharacteristics    processing    <class 'str'>    64s        64   \n",
       "94  SpectralCharacteristics          user    <class 'str'>    64s        64   \n",
       "\n",
       "    Offest  \n",
       "70     840  \n",
       "71     844  \n",
       "72     848  \n",
       "73     852  \n",
       "74     856  \n",
       "75     860  \n",
       "76     864  \n",
       "77     868  \n",
       "78     872  \n",
       "79     880  \n",
       "80     884  \n",
       "81     888  \n",
       "82     892  \n",
       "83     896  \n",
       "84     900  \n",
       "85     904  \n",
       "86     908  \n",
       "87     912  \n",
       "88     916  \n",
       "89     920  \n",
       "90     924  \n",
       "91     928  \n",
       "92     932  \n",
       "93     936  \n",
       "94    1000  "
      ]
     },
     "execution_count": 34,
     "metadata": {},
     "output_type": "execute_result"
    }
   ],
   "source": [
    "hdr_df.query('Section == \\'SpectralCharacteristics\\'')"
   ]
  },
  {
   "cell_type": "code",
   "execution_count": 35,
   "metadata": {},
   "outputs": [],
   "source": [
    "#look at the first 20 words of the SpectralCharacteristics section which starts at offset 840\n",
    "b = getfilebytes(path, 840, 20)"
   ]
  },
  {
   "cell_type": "code",
   "execution_count": 36,
   "metadata": {},
   "outputs": [
    {
     "data": {
      "text/plain": [
       "array(['0x001B37CA', '0x001B374A', '0xD9C4982C', '0x20109316',\n",
       "       '0xA1CAA52C', '0x00000080', '0xBC101841', '0x00000000',\n",
       "       '0x00000000', '0x00000000', '0x00000000', '0x00000000',\n",
       "       '0x52617720', '0x46465420', '0x20202020', '0x20202020',\n",
       "       '0x20202020', '0x20202020', '0x20202020', '0x20202020'],\n",
       "      dtype='<U10')"
      ]
     },
     "execution_count": 36,
     "metadata": {},
     "output_type": "execute_result"
    }
   ],
   "source": [
    "bytes2hexwords(b)"
   ]
  },
  {
   "cell_type": "markdown",
   "metadata": {},
   "source": [
    "First two words are `Flow` and `FHigh` respectively"
   ]
  },
  {
   "cell_type": "code",
   "execution_count": 37,
   "metadata": {},
   "outputs": [
    {
     "data": {
      "text/plain": [
       "(-3000000.0, 3000000.0)"
      ]
     },
     "execution_count": 37,
     "metadata": {},
     "output_type": "execute_result"
    }
   ],
   "source": [
    "getval(b[0:8],'ff') # two floats"
   ]
  },
  {
   "cell_type": "markdown",
   "metadata": {},
   "source": [
    "These match the expected values.\n",
    "\n",
    "Next two words are `NDlow` and `NDhigh` respectively"
   ]
  },
  {
   "cell_type": "code",
   "execution_count": 38,
   "metadata": {},
   "outputs": [
    {
     "data": {
      "text/plain": [
       "(748209369, 378736672)"
      ]
     },
     "execution_count": 38,
     "metadata": {},
     "output_type": "execute_result"
    }
   ],
   "source": [
    "getval(b[8:16],'ll') # two longs (4-byte ints)"
   ]
  },
  {
   "cell_type": "markdown",
   "metadata": {},
   "source": [
    "These are incorrect. The values should be (-4915, 4915) respectively\n",
    "\n",
    "Note some ASCII data starting at 48 bytes past the start of the Spectral Characteristics section. This is at file offset 888, which according to the Fortran header file, should be the start of the field `avecwpwr`.\n",
    "\n",
    "Note, the hyphens in the output below separate the individual ASCII characters to improve readability."
   ]
  },
  {
   "cell_type": "code",
   "execution_count": 39,
   "metadata": {},
   "outputs": [
    {
     "data": {
      "text/plain": [
       "'\\x00-\\x00-\\x00-\\x00-R-a-w- -F-F-T- - - - - - - - - - - - - - - - - - - - - - - - - '"
      ]
     },
     "execution_count": 39,
     "metadata": {},
     "output_type": "execute_result"
    }
   ],
   "source": [
    "bytes2ascii(b[44:])"
   ]
  },
  {
   "cell_type": "code",
   "execution_count": null,
   "metadata": {},
   "outputs": [],
   "source": []
  }
 ],
 "metadata": {
  "kernelspec": {
   "display_name": "Python 3",
   "language": "python",
   "name": "python3"
  },
  "language_info": {
   "codemirror_mode": {
    "name": "ipython",
    "version": 3
   },
   "file_extension": ".py",
   "mimetype": "text/x-python",
   "name": "python",
   "nbconvert_exporter": "python",
   "pygments_lexer": "ipython3",
   "version": "3.6.0"
  }
 },
 "nbformat": 4,
 "nbformat_minor": 2
}
